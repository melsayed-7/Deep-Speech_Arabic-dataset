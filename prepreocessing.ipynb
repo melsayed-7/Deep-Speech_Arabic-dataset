{
  "nbformat": 4,
  "nbformat_minor": 0,
  "metadata": {
    "colab": {
      "name": "prepreocessing.ipynb",
      "provenance": [],
      "collapsed_sections": [],
      "toc_visible": true
    },
    "kernelspec": {
      "display_name": "Python 3",
      "name": "python3"
    }
  },
  "cells": [
    {
      "cell_type": "markdown",
      "metadata": {
        "id": "sTENDvHlhAcl"
      },
      "source": [
        "# Intiating and loading libraries"
      ]
    },
    {
      "cell_type": "code",
      "metadata": {
        "colab": {
          "base_uri": "https://localhost:8080/"
        },
        "id": "gyPs410pwlLY",
        "outputId": "0888c6cd-88b8-4f09-bda0-40e35c1126be"
      },
      "source": [
        "from google.colab import drive\n",
        "drive.mount('/content/drive')"
      ],
      "execution_count": null,
      "outputs": [
        {
          "output_type": "stream",
          "text": [
            "Drive already mounted at /content/drive; to attempt to forcibly remount, call drive.mount(\"/content/drive\", force_remount=True).\n"
          ],
          "name": "stdout"
        }
      ]
    },
    {
      "cell_type": "code",
      "metadata": {
        "colab": {
          "base_uri": "https://localhost:8080/"
        },
        "id": "1nWK8xmeV5fR",
        "outputId": "6ef550dc-6f13-48e2-c545-ce7933a8d79e"
      },
      "source": [
        "# global_path=\"/content/drive/MyDrive/our_data\"\n",
        "global_path=\"/content/drive/MyDrive/Colab Notebooks/Speech transcription\"\n",
        "\n",
        "%cd $global_path "
      ],
      "execution_count": null,
      "outputs": [
        {
          "output_type": "stream",
          "text": [
            "/content/drive/MyDrive/Colab Notebooks/Speech transcription\n"
          ],
          "name": "stdout"
        }
      ]
    },
    {
      "cell_type": "code",
      "metadata": {
        "colab": {
          "base_uri": "https://localhost:8080/"
        },
        "id": "JSGXjIFMUBvc",
        "outputId": "61c3313c-710c-4f24-a0ec-0868f00801d7"
      },
      "source": [
        "!pip install pyarabic"
      ],
      "execution_count": null,
      "outputs": [
        {
          "output_type": "stream",
          "text": [
            "Requirement already satisfied: pyarabic in /usr/local/lib/python3.7/dist-packages (0.6.10)\n"
          ],
          "name": "stdout"
        }
      ]
    },
    {
      "cell_type": "code",
      "metadata": {
        "id": "YFt4N0IkWUu7"
      },
      "source": [
        "# !unzip wav_data.zip"
      ],
      "execution_count": null,
      "outputs": []
    },
    {
      "cell_type": "code",
      "metadata": {
        "id": "cLWkza_1wfI2"
      },
      "source": [
        "# load libraries\n",
        "import os\n",
        "import wave\n",
        "import pandas as pd\n",
        "import numpy as np\n",
        "import librosa\n",
        "from IPython.display import Audio\n",
        "import matplotlib.pyplot as plt\n",
        "import pyarabic.araby as araby\n",
        "import seaborn as sb\n",
        "%matplotlib inline\n",
        "pd.set_option('display.max_colwidth', None)\n",
        "\n"
      ],
      "execution_count": null,
      "outputs": []
    },
    {
      "cell_type": "markdown",
      "metadata": {
        "id": "RdFhqz4-soA1"
      },
      "source": [
        "# Normalize audio (no need to run it now!!!!)\n",
        "  Seriously it's gonna take long ,don't !!!!"
      ]
    },
    {
      "cell_type": "code",
      "metadata": {
        "id": "Zd2z8NVfsqVc"
      },
      "source": [
        "# import soundfile as sf\n",
        "\n",
        "# def resample_audio(dir,sr_new):                                                                                                                                                                                       \n",
        "#     subdirs = [x[0] for x in os.walk(dir)]                                                                            \n",
        "#     for subdir in subdirs:                                                                                            \n",
        "#         files = os.walk(subdir).__next__()[2]                                                                             \n",
        "#         if (len(files) > 0):                                                                                          \n",
        "#             for file in files:\n",
        "#               try:\n",
        "#                 audio_path=os.path.join(subdir, file)\n",
        "#                 if audio_path[-3:] == 'wav':\n",
        "#                   print(audio_path)  \n",
        "#                   y, sr= librosa.load(audio_path,sr=None)\n",
        "#                   if sr != sr_new:\n",
        "#                     y_hat = librosa.resample(y, sr, sr_new, res_type='kaiser_best')\n",
        "#                     sf.write(audio_path, y_hat, sr_new)\n",
        "#               except:\n",
        "#                 print(\"error\")\n",
        "  "
      ],
      "execution_count": null,
      "outputs": []
    },
    {
      "cell_type": "code",
      "metadata": {
        "id": "p_x79Rh4syLR"
      },
      "source": [
        "# down=8000\n",
        "# up=44100\n",
        "# resample_audio(wav_path,down)"
      ],
      "execution_count": null,
      "outputs": []
    },
    {
      "cell_type": "markdown",
      "metadata": {
        "id": "uEBv2DPYhGnR"
      },
      "source": [
        "# Loading and intial filtering of data"
      ]
    },
    {
      "cell_type": "code",
      "metadata": {
        "id": "AB8sf5H5aCSs"
      },
      "source": [
        "wav_path=os.path.join(global_path,\"wav_data_8000\")\n",
        "transcript_path=os.path.join(global_path,\"transcripts\")"
      ],
      "execution_count": null,
      "outputs": []
    },
    {
      "cell_type": "code",
      "metadata": {
        "colab": {
          "base_uri": "https://localhost:8080/"
        },
        "id": "h5Awb-cvTued",
        "outputId": "9574ecda-0a5a-4cf1-9cc5-7a93a74f6cb1"
      },
      "source": [
        "print(wav_path)"
      ],
      "execution_count": null,
      "outputs": [
        {
          "output_type": "stream",
          "text": [
            "/content/drive/MyDrive/Colab Notebooks/Speech transcription/wav_data_8000\n"
          ],
          "name": "stdout"
        }
      ]
    },
    {
      "cell_type": "code",
      "metadata": {
        "colab": {
          "base_uri": "https://localhost:8080/"
        },
        "id": "LMU8UpCRwkal",
        "outputId": "5e16da4b-ad66-411f-e459-e743bb1ec8a3"
      },
      "source": [
        "df=pd.read_csv(transcript_path+\"/dataset_1.csv\",encoding='utf-8')\n",
        "\n",
        "# the new column names\n",
        "mapping={\"Folder\":\"folder\",\n",
        "         \"Pre.\":\"pre\",\n",
        "         \"Seg.\":\"seg\",\n",
        "         \"Bytes\":\"bytes\",\n",
        "         \"Duration (s)\":\"duration_s\",\n",
        "         \"Transcription\":\"transcription_words\",\n",
        "         \"Filler\":\"filler\",\n",
        "         \"File\":\"file_name\"}\n",
        "\n",
        "df.rename(mapping,inplace=True,axis=1)\n",
        "df.head()\n",
        "df.info()"
      ],
      "execution_count": null,
      "outputs": [
        {
          "output_type": "stream",
          "text": [
            "<class 'pandas.core.frame.DataFrame'>\n",
            "RangeIndex: 4572 entries, 0 to 4571\n",
            "Data columns (total 8 columns):\n",
            " #   Column               Non-Null Count  Dtype  \n",
            "---  ------               --------------  -----  \n",
            " 0   folder               4572 non-null   int64  \n",
            " 1   pre                  4572 non-null   int64  \n",
            " 2   seg                  4572 non-null   int64  \n",
            " 3   bytes                4572 non-null   object \n",
            " 4   duration_s           4572 non-null   float64\n",
            " 5   transcription_words  4572 non-null   object \n",
            " 6   filler               151 non-null    object \n",
            " 7   file_name            4572 non-null   object \n",
            "dtypes: float64(1), int64(3), object(4)\n",
            "memory usage: 285.9+ KB\n"
          ],
          "name": "stdout"
        }
      ]
    },
    {
      "cell_type": "code",
      "metadata": {
        "id": "SpC2__aojLn9"
      },
      "source": [
        "df[\"bytes\"]=df[\"bytes\"].apply(lambda x:x.replace(\",\",'')).astype('int') # convert the bytyes column from string to integer after removing the commas"
      ],
      "execution_count": null,
      "outputs": []
    },
    {
      "cell_type": "code",
      "metadata": {
        "id": "Fl-PUUgIadom"
      },
      "source": [
        "df1=pd.read_csv(transcript_path+\"/rev2_9463.fileids\",header=None,encoding='utf-8')\n",
        "df2=pd.read_csv(transcript_path+\"/rev2_9463_csv.csv\",header=None,encoding='utf-8')\n",
        "df3=pd.read_csv(transcript_path+\"/syl_9463.txt\",header=None,encoding='utf-8')\n",
        "df1.rename({0:\"path\"},inplace=True,axis=1)\n",
        "df2.rename({0:\"file_name\",1:\"transcription_words\"},inplace=True,axis=1)\n",
        "df3.rename({0:\"transcription_sylls\"},inplace=True,axis=1)\n",
        "df_main=pd.concat([df1,df2,df3],axis=1)"
      ],
      "execution_count": null,
      "outputs": []
    },
    {
      "cell_type": "code",
      "metadata": {
        "colab": {
          "base_uri": "https://localhost:8080/",
          "height": 204
        },
        "id": "75R17jABcgYq",
        "outputId": "1b6fa265-ba23-4478-d9ef-bfed52133952"
      },
      "source": [
        "df_main.head()"
      ],
      "execution_count": null,
      "outputs": [
        {
          "output_type": "execute_result",
          "data": {
            "text/html": [
              "<div>\n",
              "<style scoped>\n",
              "    .dataframe tbody tr th:only-of-type {\n",
              "        vertical-align: middle;\n",
              "    }\n",
              "\n",
              "    .dataframe tbody tr th {\n",
              "        vertical-align: top;\n",
              "    }\n",
              "\n",
              "    .dataframe thead th {\n",
              "        text-align: right;\n",
              "    }\n",
              "</style>\n",
              "<table border=\"1\" class=\"dataframe\">\n",
              "  <thead>\n",
              "    <tr style=\"text-align: right;\">\n",
              "      <th></th>\n",
              "      <th>path</th>\n",
              "      <th>file_name</th>\n",
              "      <th>transcription_words</th>\n",
              "      <th>transcription_sylls</th>\n",
              "    </tr>\n",
              "  </thead>\n",
              "  <tbody>\n",
              "    <tr>\n",
              "      <th>0</th>\n",
              "      <td>1/1-1.wav</td>\n",
              "      <td>1-1.wav</td>\n",
              "      <td>اِرْتَفَعَتِ الْأَسْهُم ِالْكُوَيتِيَّةْ اِرْتِفَاعًا طَفِيفًا الْيَومِ السَّبْتْ</td>\n",
              "      <td>ءِرْ تَ فَ عَ تِلْ ءَسْ ھُ مُلْ كُ وَيْ تِيْ يَهْ ءِرْ تِ فَاْ عَنْ طَ فِيْ فَ نِلْ يَوْ مِسْ سَبْتْ</td>\n",
              "    </tr>\n",
              "    <tr>\n",
              "      <th>1</th>\n",
              "      <td>1/1-2.wav</td>\n",
              "      <td>1-2.wav</td>\n",
              "      <td>أَوَّلِ أَيَّامِ التَّدَاوِلِ بَعْدَ عُطْلَةٍ اِسْتَمَرَّتْ خَمْسَةَ أَيَّامْ</td>\n",
              "      <td>ءَوْ وَ لِ ءَيْ يَاْ مِتْ تَ دَاْ وِ لِ بَعْ دَ عُطْ لَ تِنْ ءِسْ تَ مَرْ رَتْ خَمْ سَ تَ ءَيْ يَاْمْ</td>\n",
              "    </tr>\n",
              "    <tr>\n",
              "      <th>2</th>\n",
              "      <td>1/1-3.wav</td>\n",
              "      <td>1-3.wav</td>\n",
              "      <td>مَدْعُومَةً بِأَنْبَاءٍ طَيِّبَةٍ مِنْ شَرِكَاتِ كُبْرَى</td>\n",
              "      <td>مَدْ عُوْ مَ تَمْ بِ ءَمْ بَاْ ءِنْ طَيْ يِ بَ تِمْ مِنْ شَ رِ كَاْ تِ كُبْ رَى</td>\n",
              "    </tr>\n",
              "    <tr>\n",
              "      <th>3</th>\n",
              "      <td>2/2-01.wav</td>\n",
              "      <td>2-01.wav</td>\n",
              "      <td>مَجَالِ الْإِصْلَاحَاتِ السِّيَاسِيَّةْ</td>\n",
              "      <td>مَ جَاْ لِلْ ءِصْ لَاْ حَاْ تِسْ سِ يَاْ سِيْ يَهْ</td>\n",
              "    </tr>\n",
              "    <tr>\n",
              "      <th>4</th>\n",
              "      <td>2/2-02.wav</td>\n",
              "      <td>2-02.wav</td>\n",
              "      <td>لِمُتَابَعَةِ الْمُفَاوَضَاتْ مَعَ مِصْرْ</td>\n",
              "      <td>لِ مُ تَاْ بَ عَ تِلْ مُ فَاْ وَ ضَ اِتْ مَ عَ مِصْرْ</td>\n",
              "    </tr>\n",
              "  </tbody>\n",
              "</table>\n",
              "</div>"
            ],
            "text/plain": [
              "         path  ...                                                                                    transcription_sylls\n",
              "0   1/1-1.wav  ...   ءِرْ تَ فَ عَ تِلْ ءَسْ ھُ مُلْ كُ وَيْ تِيْ يَهْ ءِرْ تِ فَاْ عَنْ طَ فِيْ فَ نِلْ يَوْ مِسْ سَبْتْ\n",
              "1   1/1-2.wav  ...  ءَوْ وَ لِ ءَيْ يَاْ مِتْ تَ دَاْ وِ لِ بَعْ دَ عُطْ لَ تِنْ ءِسْ تَ مَرْ رَتْ خَمْ سَ تَ ءَيْ يَاْمْ\n",
              "2   1/1-3.wav  ...                        مَدْ عُوْ مَ تَمْ بِ ءَمْ بَاْ ءِنْ طَيْ يِ بَ تِمْ مِنْ شَ رِ كَاْ تِ كُبْ رَى\n",
              "3  2/2-01.wav  ...                                                     مَ جَاْ لِلْ ءِصْ لَاْ حَاْ تِسْ سِ يَاْ سِيْ يَهْ\n",
              "4  2/2-02.wav  ...                                                  لِ مُ تَاْ بَ عَ تِلْ مُ فَاْ وَ ضَ اِتْ مَ عَ مِصْرْ\n",
              "\n",
              "[5 rows x 4 columns]"
            ]
          },
          "metadata": {
            "tags": []
          },
          "execution_count": 57
        }
      ]
    },
    {
      "cell_type": "code",
      "metadata": {
        "colab": {
          "base_uri": "https://localhost:8080/",
          "height": 204
        },
        "id": "0wZUuYLGyVDo",
        "outputId": "a3be6208-6f9b-492f-e303-69b7ecfb1a54"
      },
      "source": [
        "df.head()"
      ],
      "execution_count": null,
      "outputs": [
        {
          "output_type": "execute_result",
          "data": {
            "text/html": [
              "<div>\n",
              "<style scoped>\n",
              "    .dataframe tbody tr th:only-of-type {\n",
              "        vertical-align: middle;\n",
              "    }\n",
              "\n",
              "    .dataframe tbody tr th {\n",
              "        vertical-align: top;\n",
              "    }\n",
              "\n",
              "    .dataframe thead th {\n",
              "        text-align: right;\n",
              "    }\n",
              "</style>\n",
              "<table border=\"1\" class=\"dataframe\">\n",
              "  <thead>\n",
              "    <tr style=\"text-align: right;\">\n",
              "      <th></th>\n",
              "      <th>folder</th>\n",
              "      <th>pre</th>\n",
              "      <th>seg</th>\n",
              "      <th>bytes</th>\n",
              "      <th>duration_s</th>\n",
              "      <th>transcription_words</th>\n",
              "      <th>filler</th>\n",
              "      <th>file_name</th>\n",
              "    </tr>\n",
              "  </thead>\n",
              "  <tbody>\n",
              "    <tr>\n",
              "      <th>0</th>\n",
              "      <td>906</td>\n",
              "      <td>906</td>\n",
              "      <td>1</td>\n",
              "      <td>121320</td>\n",
              "      <td>3.8</td>\n",
              "      <td>خَصَّصَت أَكثَر مِن ثَمَانِيَة وَثَلاثِينَ مِليَارَ رِيَال</td>\n",
              "      <td>NaN</td>\n",
              "      <td>906-01.wav</td>\n",
              "    </tr>\n",
              "    <tr>\n",
              "      <th>1</th>\n",
              "      <td>907</td>\n",
              "      <td>907</td>\n",
              "      <td>1</td>\n",
              "      <td>167206</td>\n",
              "      <td>5.2</td>\n",
              "      <td>وَتُسَاهِم المُنَظَّمَة بِنَحوِ ثُلُثِ إِجمَالِيِّ الإِنتَاج العَالَمِيِّ مِن النِّفط</td>\n",
              "      <td>NaN</td>\n",
              "      <td>907-01.wav</td>\n",
              "    </tr>\n",
              "    <tr>\n",
              "      <th>2</th>\n",
              "      <td>908</td>\n",
              "      <td>908</td>\n",
              "      <td>1</td>\n",
              "      <td>273018</td>\n",
              "      <td>8.5</td>\n",
              "      <td>اِفتُتِحَ مَعرَضَ الخُرطُوم الدَّولِيِّ لِلكِتَاب وَالَّذِي يَحتَوِي عَلَى أَكثَر مِن مَليُون عُنوَان لِلكُتُب مِن بَينِهَا الثَّقَافِيَّة وَالعِلمِيَّة وَالجَامِعِيَّة</td>\n",
              "      <td>NaN</td>\n",
              "      <td>908-01.wav</td>\n",
              "    </tr>\n",
              "    <tr>\n",
              "      <th>3</th>\n",
              "      <td>909</td>\n",
              "      <td>909</td>\n",
              "      <td>1</td>\n",
              "      <td>147310</td>\n",
              "      <td>4.6</td>\n",
              "      <td>أَمَّا فِي الأُردُن فَقَد تَمَّ وَضعُ بَرنَامِج ضَخم لِتَطوِير مَدِينَةِ العَقَبَة</td>\n",
              "      <td>NaN</td>\n",
              "      <td>909-01.wav</td>\n",
              "    </tr>\n",
              "    <tr>\n",
              "      <th>4</th>\n",
              "      <td>910</td>\n",
              "      <td>910</td>\n",
              "      <td>1</td>\n",
              "      <td>114990</td>\n",
              "      <td>3.6</td>\n",
              "      <td>وَذَلِكَ بِصَالَةِ نَادِي المُعَاقِين الكُوَيتِيِّ</td>\n",
              "      <td>NaN</td>\n",
              "      <td>910-01.wav</td>\n",
              "    </tr>\n",
              "  </tbody>\n",
              "</table>\n",
              "</div>"
            ],
            "text/plain": [
              "   folder  pre  ...  filler   file_name\n",
              "0     906  906  ...     NaN  906-01.wav\n",
              "1     907  907  ...     NaN  907-01.wav\n",
              "2     908  908  ...     NaN  908-01.wav\n",
              "3     909  909  ...     NaN  909-01.wav\n",
              "4     910  910  ...     NaN  910-01.wav\n",
              "\n",
              "[5 rows x 8 columns]"
            ]
          },
          "metadata": {
            "tags": []
          },
          "execution_count": 58
        }
      ]
    },
    {
      "cell_type": "markdown",
      "metadata": {
        "id": "Qt6xDrFmhMg1"
      },
      "source": [
        "# Data exploration and correction"
      ]
    },
    {
      "cell_type": "code",
      "metadata": {
        "colab": {
          "base_uri": "https://localhost:8080/",
          "height": 204
        },
        "id": "0L-PxNPQiHdf",
        "outputId": "1b712d91-674d-44cc-8e2a-a2e0788df53d"
      },
      "source": [
        "df.head()"
      ],
      "execution_count": null,
      "outputs": [
        {
          "output_type": "execute_result",
          "data": {
            "text/html": [
              "<div>\n",
              "<style scoped>\n",
              "    .dataframe tbody tr th:only-of-type {\n",
              "        vertical-align: middle;\n",
              "    }\n",
              "\n",
              "    .dataframe tbody tr th {\n",
              "        vertical-align: top;\n",
              "    }\n",
              "\n",
              "    .dataframe thead th {\n",
              "        text-align: right;\n",
              "    }\n",
              "</style>\n",
              "<table border=\"1\" class=\"dataframe\">\n",
              "  <thead>\n",
              "    <tr style=\"text-align: right;\">\n",
              "      <th></th>\n",
              "      <th>folder</th>\n",
              "      <th>pre</th>\n",
              "      <th>seg</th>\n",
              "      <th>bytes</th>\n",
              "      <th>duration_s</th>\n",
              "      <th>transcription_words</th>\n",
              "      <th>filler</th>\n",
              "      <th>file_name</th>\n",
              "    </tr>\n",
              "  </thead>\n",
              "  <tbody>\n",
              "    <tr>\n",
              "      <th>0</th>\n",
              "      <td>906</td>\n",
              "      <td>906</td>\n",
              "      <td>1</td>\n",
              "      <td>121320</td>\n",
              "      <td>3.8</td>\n",
              "      <td>خَصَّصَت أَكثَر مِن ثَمَانِيَة وَثَلاثِينَ مِليَارَ رِيَال</td>\n",
              "      <td>NaN</td>\n",
              "      <td>906-01.wav</td>\n",
              "    </tr>\n",
              "    <tr>\n",
              "      <th>1</th>\n",
              "      <td>907</td>\n",
              "      <td>907</td>\n",
              "      <td>1</td>\n",
              "      <td>167206</td>\n",
              "      <td>5.2</td>\n",
              "      <td>وَتُسَاهِم المُنَظَّمَة بِنَحوِ ثُلُثِ إِجمَالِيِّ الإِنتَاج العَالَمِيِّ مِن النِّفط</td>\n",
              "      <td>NaN</td>\n",
              "      <td>907-01.wav</td>\n",
              "    </tr>\n",
              "    <tr>\n",
              "      <th>2</th>\n",
              "      <td>908</td>\n",
              "      <td>908</td>\n",
              "      <td>1</td>\n",
              "      <td>273018</td>\n",
              "      <td>8.5</td>\n",
              "      <td>اِفتُتِحَ مَعرَضَ الخُرطُوم الدَّولِيِّ لِلكِتَاب وَالَّذِي يَحتَوِي عَلَى أَكثَر مِن مَليُون عُنوَان لِلكُتُب مِن بَينِهَا الثَّقَافِيَّة وَالعِلمِيَّة وَالجَامِعِيَّة</td>\n",
              "      <td>NaN</td>\n",
              "      <td>908-01.wav</td>\n",
              "    </tr>\n",
              "    <tr>\n",
              "      <th>3</th>\n",
              "      <td>909</td>\n",
              "      <td>909</td>\n",
              "      <td>1</td>\n",
              "      <td>147310</td>\n",
              "      <td>4.6</td>\n",
              "      <td>أَمَّا فِي الأُردُن فَقَد تَمَّ وَضعُ بَرنَامِج ضَخم لِتَطوِير مَدِينَةِ العَقَبَة</td>\n",
              "      <td>NaN</td>\n",
              "      <td>909-01.wav</td>\n",
              "    </tr>\n",
              "    <tr>\n",
              "      <th>4</th>\n",
              "      <td>910</td>\n",
              "      <td>910</td>\n",
              "      <td>1</td>\n",
              "      <td>114990</td>\n",
              "      <td>3.6</td>\n",
              "      <td>وَذَلِكَ بِصَالَةِ نَادِي المُعَاقِين الكُوَيتِيِّ</td>\n",
              "      <td>NaN</td>\n",
              "      <td>910-01.wav</td>\n",
              "    </tr>\n",
              "  </tbody>\n",
              "</table>\n",
              "</div>"
            ],
            "text/plain": [
              "   folder  pre  ...  filler   file_name\n",
              "0     906  906  ...     NaN  906-01.wav\n",
              "1     907  907  ...     NaN  907-01.wav\n",
              "2     908  908  ...     NaN  908-01.wav\n",
              "3     909  909  ...     NaN  909-01.wav\n",
              "4     910  910  ...     NaN  910-01.wav\n",
              "\n",
              "[5 rows x 8 columns]"
            ]
          },
          "metadata": {
            "tags": []
          },
          "execution_count": 59
        }
      ]
    },
    {
      "cell_type": "code",
      "metadata": {
        "colab": {
          "base_uri": "https://localhost:8080/"
        },
        "id": "fxdq1LQrhWs-",
        "outputId": "e09cfe63-b251-49ef-c674-fbddce60952b"
      },
      "source": [
        "df_main.info()"
      ],
      "execution_count": null,
      "outputs": [
        {
          "output_type": "stream",
          "text": [
            "<class 'pandas.core.frame.DataFrame'>\n",
            "RangeIndex: 9463 entries, 0 to 9462\n",
            "Data columns (total 4 columns):\n",
            " #   Column               Non-Null Count  Dtype \n",
            "---  ------               --------------  ----- \n",
            " 0   path                 9463 non-null   object\n",
            " 1   file_name            9463 non-null   object\n",
            " 2   transcription_words  9463 non-null   object\n",
            " 3   transcription_sylls  9463 non-null   object\n",
            "dtypes: object(4)\n",
            "memory usage: 295.8+ KB\n"
          ],
          "name": "stdout"
        }
      ]
    },
    {
      "cell_type": "code",
      "metadata": {
        "colab": {
          "base_uri": "https://localhost:8080/"
        },
        "id": "nyXjMnGwgMeQ",
        "outputId": "d409dd7b-b74f-49a3-8f4c-b07c75e2f4fe"
      },
      "source": [
        "df[df.filler.notnull()].filler.value_counts()"
      ],
      "execution_count": null,
      "outputs": [
        {
          "output_type": "execute_result",
          "data": {
            "text/plain": [
              "!INH      116\n",
              "!NOISE     35\n",
              "Name: filler, dtype: int64"
            ]
          },
          "metadata": {
            "tags": []
          },
          "execution_count": 61
        }
      ]
    },
    {
      "cell_type": "markdown",
      "metadata": {
        "id": "xBymJHKhkDdW"
      },
      "source": [
        "## Making sure both data frames are consistant with one another"
      ]
    },
    {
      "cell_type": "code",
      "metadata": {
        "id": "KKHR8rEZhVAL"
      },
      "source": [
        "df.sort_values(\"file_name\",inplace=True)\n",
        "df_main.sort_values(\"file_name\",inplace=True)"
      ],
      "execution_count": null,
      "outputs": []
    },
    {
      "cell_type": "code",
      "metadata": {
        "colab": {
          "base_uri": "https://localhost:8080/"
        },
        "id": "3KQb9Bh-kNIa",
        "outputId": "e93d1baf-1880-4756-86c9-ac03df492e6e"
      },
      "source": [
        "df_main.info()"
      ],
      "execution_count": null,
      "outputs": [
        {
          "output_type": "stream",
          "text": [
            "<class 'pandas.core.frame.DataFrame'>\n",
            "Int64Index: 9463 entries, 0 to 1847\n",
            "Data columns (total 4 columns):\n",
            " #   Column               Non-Null Count  Dtype \n",
            "---  ------               --------------  ----- \n",
            " 0   path                 9463 non-null   object\n",
            " 1   file_name            9463 non-null   object\n",
            " 2   transcription_words  9463 non-null   object\n",
            " 3   transcription_sylls  9463 non-null   object\n",
            "dtypes: object(4)\n",
            "memory usage: 369.6+ KB\n"
          ],
          "name": "stdout"
        }
      ]
    },
    {
      "cell_type": "code",
      "metadata": {
        "colab": {
          "base_uri": "https://localhost:8080/"
        },
        "id": "gk_BSoHHkYlt",
        "outputId": "aa2e9a75-ffc9-49a2-bdbd-83c7e1b3296f"
      },
      "source": [
        "df.info()"
      ],
      "execution_count": null,
      "outputs": [
        {
          "output_type": "stream",
          "text": [
            "<class 'pandas.core.frame.DataFrame'>\n",
            "Int64Index: 4572 entries, 1365 to 4316\n",
            "Data columns (total 8 columns):\n",
            " #   Column               Non-Null Count  Dtype  \n",
            "---  ------               --------------  -----  \n",
            " 0   folder               4572 non-null   int64  \n",
            " 1   pre                  4572 non-null   int64  \n",
            " 2   seg                  4572 non-null   int64  \n",
            " 3   bytes                4572 non-null   int64  \n",
            " 4   duration_s           4572 non-null   float64\n",
            " 5   transcription_words  4572 non-null   object \n",
            " 6   filler               151 non-null    object \n",
            " 7   file_name            4572 non-null   object \n",
            "dtypes: float64(1), int64(4), object(3)\n",
            "memory usage: 321.5+ KB\n"
          ],
          "name": "stdout"
        }
      ]
    },
    {
      "cell_type": "code",
      "metadata": {
        "id": "QMdHR9f_ravA"
      },
      "source": [
        "# convert the types\n",
        "df['file_name']=df['file_name'].astype('string')\n",
        "df_main['file_name']=df_main['file_name'].astype('string')\n"
      ],
      "execution_count": null,
      "outputs": []
    },
    {
      "cell_type": "code",
      "metadata": {
        "colab": {
          "base_uri": "https://localhost:8080/",
          "height": 204
        },
        "id": "tmyFJNDSpCsB",
        "outputId": "18b8af2c-203f-4af7-d805-0b6c4f0cef3e"
      },
      "source": [
        "df.head()"
      ],
      "execution_count": null,
      "outputs": [
        {
          "output_type": "execute_result",
          "data": {
            "text/html": [
              "<div>\n",
              "<style scoped>\n",
              "    .dataframe tbody tr th:only-of-type {\n",
              "        vertical-align: middle;\n",
              "    }\n",
              "\n",
              "    .dataframe tbody tr th {\n",
              "        vertical-align: top;\n",
              "    }\n",
              "\n",
              "    .dataframe thead th {\n",
              "        text-align: right;\n",
              "    }\n",
              "</style>\n",
              "<table border=\"1\" class=\"dataframe\">\n",
              "  <thead>\n",
              "    <tr style=\"text-align: right;\">\n",
              "      <th></th>\n",
              "      <th>folder</th>\n",
              "      <th>pre</th>\n",
              "      <th>seg</th>\n",
              "      <th>bytes</th>\n",
              "      <th>duration_s</th>\n",
              "      <th>transcription_words</th>\n",
              "      <th>filler</th>\n",
              "      <th>file_name</th>\n",
              "    </tr>\n",
              "  </thead>\n",
              "  <tbody>\n",
              "    <tr>\n",
              "      <th>1365</th>\n",
              "      <td>1</td>\n",
              "      <td>1</td>\n",
              "      <td>1</td>\n",
              "      <td>112150</td>\n",
              "      <td>3.5</td>\n",
              "      <td>اِرتَفَعَت الأَسهُم الكُوَيتِيَّة اِرتِفَاعَا طَفِيفًا اليَوم السَّبت</td>\n",
              "      <td>NaN</td>\n",
              "      <td>1-1.wav</td>\n",
              "    </tr>\n",
              "    <tr>\n",
              "      <th>2653</th>\n",
              "      <td>1</td>\n",
              "      <td>1</td>\n",
              "      <td>2</td>\n",
              "      <td>131026</td>\n",
              "      <td>4.1</td>\n",
              "      <td>فِي أَوَّلِ أَيَامِ التَدَاوِلِ بَعدَ عُطلَةٍ اِستَمَرَّت خَمسَةَ أَيَّام</td>\n",
              "      <td>NaN</td>\n",
              "      <td>1-2.wav</td>\n",
              "    </tr>\n",
              "    <tr>\n",
              "      <th>3440</th>\n",
              "      <td>1</td>\n",
              "      <td>1</td>\n",
              "      <td>3</td>\n",
              "      <td>111560</td>\n",
              "      <td>3.5</td>\n",
              "      <td>مَدعُومَةً بِأََنبَاءٍ طَيِّبَةٍ مِن شَرِكَاتٍ كُبرَى</td>\n",
              "      <td>NaN</td>\n",
              "      <td>1-3.wav</td>\n",
              "    </tr>\n",
              "    <tr>\n",
              "      <th>36</th>\n",
              "      <td>10</td>\n",
              "      <td>10</td>\n",
              "      <td>1</td>\n",
              "      <td>116646</td>\n",
              "      <td>3.6</td>\n",
              "      <td>قَالَ نَائِبُ مُحَافِظُ البَنكِ المَركَزِيِّ الإِيرَانِيِّ إِنَّ بِلاَدَهُ</td>\n",
              "      <td>NaN</td>\n",
              "      <td>10-01.wav</td>\n",
              "    </tr>\n",
              "    <tr>\n",
              "      <th>187</th>\n",
              "      <td>10</td>\n",
              "      <td>10</td>\n",
              "      <td>2</td>\n",
              "      <td>131170</td>\n",
              "      <td>4.1</td>\n",
              "      <td>لَن تَنَقَلَ أَموَالهَاَ مِن حِسَابَاتِهَا الأُورُوبِيَّة إِلَى آسيَا</td>\n",
              "      <td>NaN</td>\n",
              "      <td>10-02.wav</td>\n",
              "    </tr>\n",
              "  </tbody>\n",
              "</table>\n",
              "</div>"
            ],
            "text/plain": [
              "      folder  pre  ...  filler  file_name\n",
              "1365       1    1  ...     NaN    1-1.wav\n",
              "2653       1    1  ...     NaN    1-2.wav\n",
              "3440       1    1  ...     NaN    1-3.wav\n",
              "36        10   10  ...     NaN  10-01.wav\n",
              "187       10   10  ...     NaN  10-02.wav\n",
              "\n",
              "[5 rows x 8 columns]"
            ]
          },
          "metadata": {
            "tags": []
          },
          "execution_count": 66
        }
      ]
    },
    {
      "cell_type": "code",
      "metadata": {
        "colab": {
          "base_uri": "https://localhost:8080/",
          "height": 204
        },
        "id": "sBXC9KaRr1hr",
        "outputId": "2666068c-6d04-4cfc-8425-5405f2e4f6fd"
      },
      "source": [
        "df_main.head()"
      ],
      "execution_count": null,
      "outputs": [
        {
          "output_type": "execute_result",
          "data": {
            "text/html": [
              "<div>\n",
              "<style scoped>\n",
              "    .dataframe tbody tr th:only-of-type {\n",
              "        vertical-align: middle;\n",
              "    }\n",
              "\n",
              "    .dataframe tbody tr th {\n",
              "        vertical-align: top;\n",
              "    }\n",
              "\n",
              "    .dataframe thead th {\n",
              "        text-align: right;\n",
              "    }\n",
              "</style>\n",
              "<table border=\"1\" class=\"dataframe\">\n",
              "  <thead>\n",
              "    <tr style=\"text-align: right;\">\n",
              "      <th></th>\n",
              "      <th>path</th>\n",
              "      <th>file_name</th>\n",
              "      <th>transcription_words</th>\n",
              "      <th>transcription_sylls</th>\n",
              "    </tr>\n",
              "  </thead>\n",
              "  <tbody>\n",
              "    <tr>\n",
              "      <th>0</th>\n",
              "      <td>1/1-1.wav</td>\n",
              "      <td>1-1.wav</td>\n",
              "      <td>اِرْتَفَعَتِ الْأَسْهُم ِالْكُوَيتِيَّةْ اِرْتِفَاعًا طَفِيفًا الْيَومِ السَّبْتْ</td>\n",
              "      <td>ءِرْ تَ فَ عَ تِلْ ءَسْ ھُ مُلْ كُ وَيْ تِيْ يَهْ ءِرْ تِ فَاْ عَنْ طَ فِيْ فَ نِلْ يَوْ مِسْ سَبْتْ</td>\n",
              "    </tr>\n",
              "    <tr>\n",
              "      <th>1</th>\n",
              "      <td>1/1-2.wav</td>\n",
              "      <td>1-2.wav</td>\n",
              "      <td>أَوَّلِ أَيَّامِ التَّدَاوِلِ بَعْدَ عُطْلَةٍ اِسْتَمَرَّتْ خَمْسَةَ أَيَّامْ</td>\n",
              "      <td>ءَوْ وَ لِ ءَيْ يَاْ مِتْ تَ دَاْ وِ لِ بَعْ دَ عُطْ لَ تِنْ ءِسْ تَ مَرْ رَتْ خَمْ سَ تَ ءَيْ يَاْمْ</td>\n",
              "    </tr>\n",
              "    <tr>\n",
              "      <th>2</th>\n",
              "      <td>1/1-3.wav</td>\n",
              "      <td>1-3.wav</td>\n",
              "      <td>مَدْعُومَةً بِأَنْبَاءٍ طَيِّبَةٍ مِنْ شَرِكَاتِ كُبْرَى</td>\n",
              "      <td>مَدْ عُوْ مَ تَمْ بِ ءَمْ بَاْ ءِنْ طَيْ يِ بَ تِمْ مِنْ شَ رِ كَاْ تِ كُبْ رَى</td>\n",
              "    </tr>\n",
              "    <tr>\n",
              "      <th>133</th>\n",
              "      <td>10/10-01.wav</td>\n",
              "      <td>10-01.wav</td>\n",
              "      <td>قَالَ نَائِبُ مُحَافِظِ الْبَنْكِ الْمَرْكَزِيِّ الْإِيرَانِيّ إِنَّ بِلَادَهُ</td>\n",
              "      <td>قَاْ لَ نَاْ ءِ بُ مُ حَاْ فِ ظِلْ بَنْ كِلْ مَرْ كَ زِيْ يِلْ ءِيْ رَاْ نِيْي ءِنْ نَ بِ لَاْ دَهْ</td>\n",
              "    </tr>\n",
              "    <tr>\n",
              "      <th>134</th>\n",
              "      <td>10/10-02.wav</td>\n",
              "      <td>10-02.wav</td>\n",
              "      <td>لَنْ تَنْقُلَ أَمْوَالَهَا مِنْ حِسَابَاتِهَا الْأُورُوبِيَّةْ إِلَى آسِيَا</td>\n",
              "      <td>لَنْ تَنْ قُ لَ ءَمْ وَاْ لَ ھَاْ مِنْ حِ سَاْ بَاْ تِ ھَاْلْ ءُوْ رُوْ بِيْ يَهْ ءِ لَىآ سِ يَاْ</td>\n",
              "    </tr>\n",
              "  </tbody>\n",
              "</table>\n",
              "</div>"
            ],
            "text/plain": [
              "             path  ...                                                                                    transcription_sylls\n",
              "0       1/1-1.wav  ...   ءِرْ تَ فَ عَ تِلْ ءَسْ ھُ مُلْ كُ وَيْ تِيْ يَهْ ءِرْ تِ فَاْ عَنْ طَ فِيْ فَ نِلْ يَوْ مِسْ سَبْتْ\n",
              "1       1/1-2.wav  ...  ءَوْ وَ لِ ءَيْ يَاْ مِتْ تَ دَاْ وِ لِ بَعْ دَ عُطْ لَ تِنْ ءِسْ تَ مَرْ رَتْ خَمْ سَ تَ ءَيْ يَاْمْ\n",
              "2       1/1-3.wav  ...                        مَدْ عُوْ مَ تَمْ بِ ءَمْ بَاْ ءِنْ طَيْ يِ بَ تِمْ مِنْ شَ رِ كَاْ تِ كُبْ رَى\n",
              "133  10/10-01.wav  ...    قَاْ لَ نَاْ ءِ بُ مُ حَاْ فِ ظِلْ بَنْ كِلْ مَرْ كَ زِيْ يِلْ ءِيْ رَاْ نِيْي ءِنْ نَ بِ لَاْ دَهْ\n",
              "134  10/10-02.wav  ...      لَنْ تَنْ قُ لَ ءَمْ وَاْ لَ ھَاْ مِنْ حِ سَاْ بَاْ تِ ھَاْلْ ءُوْ رُوْ بِيْ يَهْ ءِ لَىآ سِ يَاْ\n",
              "\n",
              "[5 rows x 4 columns]"
            ]
          },
          "metadata": {
            "tags": []
          },
          "execution_count": 67
        }
      ]
    },
    {
      "cell_type": "code",
      "metadata": {
        "id": "Cy3H0oTk3Yqs"
      },
      "source": [
        "df_main[\"bytes\"]=df_main[\"path\"].apply(lambda x:os.path.getsize(os.path.join(wav_path,x)))\n",
        "df_main[\"duration\"]=df_main[\"path\"].apply(lambda x:librosa.get_duration(filename=os.path.join(wav_path,x)))"
      ],
      "execution_count": null,
      "outputs": []
    },
    {
      "cell_type": "code",
      "metadata": {
        "id": "fc2_d5D0-eJV"
      },
      "source": [
        "df_main[\"transcription_sylls\"]=df_main[\"transcription_sylls\"].apply(lambda x:x.replace(\"UKN!\",\"\").replace(\"!UKN\",\"\").replace(\"!NOISE\",\"\").replace(\"!INH\",\"\").replace(\"\\t\",''))\n",
        "df_main[\"transcription_words\"]=df_main[\"transcription_words\"].apply(lambda x:x.replace(\"UKN!\",\"\").replace(\"!UKN\",\"\").replace(\"!NOISE\",\"\").replace(\"!INH\",\"\").replace(\"\\t\",''))"
      ],
      "execution_count": null,
      "outputs": []
    },
    {
      "cell_type": "code",
      "metadata": {
        "id": "k2TODJVXMZIA"
      },
      "source": [
        "def getFiller(sentence:str)->str:\n",
        "  if \"$\" in sentence:\n",
        "    return \"!UKN\"\n",
        "  elif \"%\" in sentence:\n",
        "    return \"!NOISE\"\n",
        "  elif \"#\" in sentence:\n",
        "    return \"!INH\""
      ],
      "execution_count": null,
      "outputs": []
    },
    {
      "cell_type": "code",
      "metadata": {
        "id": "rIP_kl_0MO6k"
      },
      "source": [
        "df_main[\"filler_sylls\"]=df_main[\"transcription_sylls\"].apply(getFiller)\n",
        "df_main[\"filler_words\"]=df_main[\"transcription_words\"].apply(getFiller)"
      ],
      "execution_count": null,
      "outputs": []
    },
    {
      "cell_type": "code",
      "metadata": {
        "colab": {
          "base_uri": "https://localhost:8080/",
          "height": 297
        },
        "id": "Rlsr5IT54fJj",
        "outputId": "ec4acda3-f0a8-416f-d383-20e8561ed347"
      },
      "source": [
        "df_main.describe()"
      ],
      "execution_count": null,
      "outputs": [
        {
          "output_type": "execute_result",
          "data": {
            "text/html": [
              "<div>\n",
              "<style scoped>\n",
              "    .dataframe tbody tr th:only-of-type {\n",
              "        vertical-align: middle;\n",
              "    }\n",
              "\n",
              "    .dataframe tbody tr th {\n",
              "        vertical-align: top;\n",
              "    }\n",
              "\n",
              "    .dataframe thead th {\n",
              "        text-align: right;\n",
              "    }\n",
              "</style>\n",
              "<table border=\"1\" class=\"dataframe\">\n",
              "  <thead>\n",
              "    <tr style=\"text-align: right;\">\n",
              "      <th></th>\n",
              "      <th>bytes</th>\n",
              "    </tr>\n",
              "  </thead>\n",
              "  <tbody>\n",
              "    <tr>\n",
              "      <th>count</th>\n",
              "      <td>9463.000000</td>\n",
              "    </tr>\n",
              "    <tr>\n",
              "      <th>mean</th>\n",
              "      <td>90080.863574</td>\n",
              "    </tr>\n",
              "    <tr>\n",
              "      <th>std</th>\n",
              "      <td>53451.846965</td>\n",
              "    </tr>\n",
              "    <tr>\n",
              "      <th>min</th>\n",
              "      <td>9858.000000</td>\n",
              "    </tr>\n",
              "    <tr>\n",
              "      <th>25%</th>\n",
              "      <td>51914.000000</td>\n",
              "    </tr>\n",
              "    <tr>\n",
              "      <th>50%</th>\n",
              "      <td>74542.000000</td>\n",
              "    </tr>\n",
              "    <tr>\n",
              "      <th>75%</th>\n",
              "      <td>112899.000000</td>\n",
              "    </tr>\n",
              "    <tr>\n",
              "      <th>max</th>\n",
              "      <td>352218.000000</td>\n",
              "    </tr>\n",
              "  </tbody>\n",
              "</table>\n",
              "</div>"
            ],
            "text/plain": [
              "               bytes\n",
              "count    9463.000000\n",
              "mean    90080.863574\n",
              "std     53451.846965\n",
              "min      9858.000000\n",
              "25%     51914.000000\n",
              "50%     74542.000000\n",
              "75%    112899.000000\n",
              "max    352218.000000"
            ]
          },
          "metadata": {
            "tags": []
          },
          "execution_count": 73
        }
      ]
    },
    {
      "cell_type": "code",
      "metadata": {
        "colab": {
          "base_uri": "https://localhost:8080/"
        },
        "id": "Wf2DHzTj637c",
        "outputId": "324548ce-3ed7-40f2-ed01-a19a096e8d51"
      },
      "source": [
        "str_list=df_main['transcription_words'].to_list()\n",
        "one_str=''.join(str_list)\n",
        "unique=set(one_str)\n",
        "print(len(unique))\n",
        "print(unique)\n",
        "with open('alphabet_words.txt', 'w') as f:\n",
        "    for char in unique:\n",
        "        f.write(f'{char}\\n')"
      ],
      "execution_count": null,
      "outputs": [
        {
          "output_type": "stream",
          "text": [
            "46\n",
            "{'ْ', 'ئ', 'ـ', 'ظ', 'خ', 'ؤ', 'ض', 'ج', 'ش', 'ب', 'ح', 'إ', 'ث', 'ّ', 'ن', 'ع', 'ٍ', 'ه', ' ', 'ص', 'ِ', 'ط', 'أ', 'م', 'غ', 'س', 'ك', 'ت', 'ُ', 'ذ', 'ً', 'ى', 'ا', 'ٌ', 'آ', 'ق', 'ل', 'ة', 'ر', 'ء', 'و', 'د', 'ف', 'ي', 'ز', 'َ'}\n"
          ],
          "name": "stdout"
        }
      ]
    },
    {
      "cell_type": "code",
      "metadata": {
        "colab": {
          "base_uri": "https://localhost:8080/"
        },
        "id": "CUQzxrLU7cd1",
        "outputId": "9e261ed2-9d40-452c-be19-bf9425d793f2"
      },
      "source": [
        "str_list=df_main['transcription_sylls'].to_list()\n",
        "one_str=''.join(str_list)\n",
        "unique=set(one_str)\n",
        "print (len(unique))\n",
        "print(unique)\n",
        "with open('alphabet_sylls.txt', 'w') as f:\n",
        "    for char in unique:\n",
        "        f.write(f'{char}\\n')"
      ],
      "execution_count": null,
      "outputs": [
        {
          "output_type": "stream",
          "text": [
            "39\n",
            "{'ْ', 'ظ', 'خ', 'ض', 'ج', 'ش', 'ھ', 'ب', 'ح', 'ث', 'ّ', 'ن', 'ع', 'ه', ' ', 'ص', 'ِ', 'ط', 'م', 'غ', 'س', 'ك', 'ت', 'ُ', 'ذ', 'ى', 'ا', 'آ', 'ق', 'ل', 'ة', 'ء', 'ر', 'و', 'د', 'ف', 'ي', 'ز', 'َ'}\n"
          ],
          "name": "stdout"
        }
      ]
    },
    {
      "cell_type": "code",
      "metadata": {
        "id": "FF06F1z2bYF_"
      },
      "source": [
        "def getSamplingRate(path):\n",
        "   with wave.open(os.path.join(wav_path,path), \"rb\") as wave_file:\n",
        "        return wave_file.getframerate()"
      ],
      "execution_count": null,
      "outputs": []
    },
    {
      "cell_type": "code",
      "metadata": {
        "id": "FxNxptinbPpO"
      },
      "source": [
        "df_main[\"sampling_rate\"]=df_main['path'].apply(getSamplingRate)\n"
      ],
      "execution_count": null,
      "outputs": []
    },
    {
      "cell_type": "markdown",
      "metadata": {
        "id": "mKMF3wMOEYBf"
      },
      "source": [
        "#Correlation between length of the word and the time\n"
      ]
    },
    {
      "cell_type": "code",
      "metadata": {
        "id": "ojQJHtxI-PQH"
      },
      "source": [
        "df_main[\"chars_num\"]=df_main['transcription_words'].apply(lambda x:len(x))\n",
        "df_main[\"sylls_num\"]=df_main['transcription_words'].apply(lambda x:len(x.split(\" \")))"
      ],
      "execution_count": null,
      "outputs": []
    },
    {
      "cell_type": "code",
      "metadata": {
        "id": "xgBPaQ8sEwE-",
        "colab": {
          "base_uri": "https://localhost:8080/",
          "height": 204
        },
        "outputId": "11f5574b-a31a-44b0-e5e6-8281136675f3"
      },
      "source": [
        "df_main.head()"
      ],
      "execution_count": null,
      "outputs": [
        {
          "output_type": "execute_result",
          "data": {
            "text/html": [
              "<div>\n",
              "<style scoped>\n",
              "    .dataframe tbody tr th:only-of-type {\n",
              "        vertical-align: middle;\n",
              "    }\n",
              "\n",
              "    .dataframe tbody tr th {\n",
              "        vertical-align: top;\n",
              "    }\n",
              "\n",
              "    .dataframe thead th {\n",
              "        text-align: right;\n",
              "    }\n",
              "</style>\n",
              "<table border=\"1\" class=\"dataframe\">\n",
              "  <thead>\n",
              "    <tr style=\"text-align: right;\">\n",
              "      <th></th>\n",
              "      <th>path</th>\n",
              "      <th>file_name</th>\n",
              "      <th>transcription_words</th>\n",
              "      <th>transcription_sylls</th>\n",
              "      <th>bytes</th>\n",
              "      <th>filler_sylls</th>\n",
              "      <th>filler_words</th>\n",
              "      <th>chars_num</th>\n",
              "      <th>sylls_num</th>\n",
              "    </tr>\n",
              "  </thead>\n",
              "  <tbody>\n",
              "    <tr>\n",
              "      <th>0</th>\n",
              "      <td>1/1-1.wav</td>\n",
              "      <td>1-1.wav</td>\n",
              "      <td>اِرْتَفَعَتِ الْأَسْهُم ِالْكُوَيتِيَّةْ اِرْتِفَاعًا طَفِيفًا الْيَومِ السَّبْتْ</td>\n",
              "      <td>ءِرْ تَ فَ عَ تِلْ ءَسْ ھُ مُلْ كُ وَيْ تِيْ يَهْ ءِرْ تِ فَاْ عَنْ طَ فِيْ فَ نِلْ يَوْ مِسْ سَبْتْ</td>\n",
              "      <td>56098</td>\n",
              "      <td>None</td>\n",
              "      <td>None</td>\n",
              "      <td>81</td>\n",
              "      <td>7</td>\n",
              "    </tr>\n",
              "    <tr>\n",
              "      <th>1</th>\n",
              "      <td>1/1-2.wav</td>\n",
              "      <td>1-2.wav</td>\n",
              "      <td>أَوَّلِ أَيَّامِ التَّدَاوِلِ بَعْدَ عُطْلَةٍ اِسْتَمَرَّتْ خَمْسَةَ أَيَّامْ</td>\n",
              "      <td>ءَوْ وَ لِ ءَيْ يَاْ مِتْ تَ دَاْ وِ لِ بَعْ دَ عُطْ لَ تِنْ ءِسْ تَ مَرْ رَتْ خَمْ سَ تَ ءَيْ يَاْمْ</td>\n",
              "      <td>65536</td>\n",
              "      <td>None</td>\n",
              "      <td>None</td>\n",
              "      <td>77</td>\n",
              "      <td>8</td>\n",
              "    </tr>\n",
              "    <tr>\n",
              "      <th>2</th>\n",
              "      <td>1/1-3.wav</td>\n",
              "      <td>1-3.wav</td>\n",
              "      <td>مَدْعُومَةً بِأَنْبَاءٍ طَيِّبَةٍ مِنْ شَرِكَاتِ كُبْرَى</td>\n",
              "      <td>مَدْ عُوْ مَ تَمْ بِ ءَمْ بَاْ ءِنْ طَيْ يِ بَ تِمْ مِنْ شَ رِ كَاْ تِ كُبْ رَى</td>\n",
              "      <td>55802</td>\n",
              "      <td>None</td>\n",
              "      <td>None</td>\n",
              "      <td>56</td>\n",
              "      <td>6</td>\n",
              "    </tr>\n",
              "    <tr>\n",
              "      <th>133</th>\n",
              "      <td>10/10-01.wav</td>\n",
              "      <td>10-01.wav</td>\n",
              "      <td>قَالَ نَائِبُ مُحَافِظِ الْبَنْكِ الْمَرْكَزِيِّ الْإِيرَانِيّ إِنَّ بِلَادَهُ</td>\n",
              "      <td>قَاْ لَ نَاْ ءِ بُ مُ حَاْ فِ ظِلْ بَنْ كِلْ مَرْ كَ زِيْ يِلْ ءِيْ رَاْ نِيْي ءِنْ نَ بِ لَاْ دَهْ</td>\n",
              "      <td>58346</td>\n",
              "      <td>None</td>\n",
              "      <td>None</td>\n",
              "      <td>78</td>\n",
              "      <td>8</td>\n",
              "    </tr>\n",
              "    <tr>\n",
              "      <th>134</th>\n",
              "      <td>10/10-02.wav</td>\n",
              "      <td>10-02.wav</td>\n",
              "      <td>لَنْ تَنْقُلَ أَمْوَالَهَا مِنْ حِسَابَاتِهَا الْأُورُوبِيَّةْ إِلَى آسِيَا</td>\n",
              "      <td>لَنْ تَنْ قُ لَ ءَمْ وَاْ لَ ھَاْ مِنْ حِ سَاْ بَاْ تِ ھَاْلْ ءُوْ رُوْ بِيْ يَهْ ءِ لَىآ سِ يَاْ</td>\n",
              "      <td>65608</td>\n",
              "      <td>None</td>\n",
              "      <td>None</td>\n",
              "      <td>75</td>\n",
              "      <td>8</td>\n",
              "    </tr>\n",
              "  </tbody>\n",
              "</table>\n",
              "</div>"
            ],
            "text/plain": [
              "             path   file_name  ... chars_num sylls_num\n",
              "0       1/1-1.wav    1-1.wav   ...        81         7\n",
              "1       1/1-2.wav    1-2.wav   ...        77         8\n",
              "2       1/1-3.wav    1-3.wav   ...        56         6\n",
              "133  10/10-01.wav  10-01.wav   ...        78         8\n",
              "134  10/10-02.wav  10-02.wav   ...        75         8\n",
              "\n",
              "[5 rows x 9 columns]"
            ]
          },
          "metadata": {
            "tags": []
          },
          "execution_count": 79
        }
      ]
    },
    {
      "cell_type": "markdown",
      "metadata": {
        "id": "NEyHEcH5JUUL"
      },
      "source": [
        "# Visualization"
      ]
    },
    {
      "cell_type": "code",
      "metadata": {
        "id": "O-vISMJlBelg",
        "colab": {
          "base_uri": "https://localhost:8080/",
          "height": 374
        },
        "outputId": "5ea04b2a-5a49-426d-e9a4-42fb4fd23cf0"
      },
      "source": [
        "# sb.pairplot(df_main[['bytes','duration','chars_num','sylls_num','sampling_rate']]);\n",
        "sb.pairplot(df_main[['chars_num','sylls_num']]);\n"
      ],
      "execution_count": null,
      "outputs": [
        {
          "output_type": "display_data",
          "data": {
            "image/png": "[encoded data removed]",
            "text/plain": [
              "<Figure size 360x360 with 6 Axes>"
            ]
          },
          "metadata": {
            "tags": [],
            "needs_background": "light"
          }
        }
      ]
    },
    {
      "cell_type": "code",
      "metadata": {
        "id": "to1eKNNSn-6h"
      },
      "source": [
        "df_main['sampling_rate'].value_counts()\n"
      ],
      "execution_count": null,
      "outputs": []
    },
    {
      "cell_type": "code",
      "metadata": {
        "id": "p9d15GcYExko",
        "colab": {
          "base_uri": "https://localhost:8080/",
          "height": 853
        },
        "outputId": "e57006a9-5c91-4c2c-ee7d-2a9e9ecaf8e5"
      },
      "source": [
        "# plt.figure()\n",
        "# df_main['sampling_rate'].hist();\n",
        "# plt.title(\"sampling_rate Histogram\")\n",
        "# plt.xlabel(\"sampling_rate\")\n",
        "# plt.ylabel(\"Count\")\n",
        "# plt.show()\n",
        "\n",
        "\n",
        "\n",
        "plt.figure()\n",
        "df_main['chars_num'].hist(bins=30);\n",
        "plt.title(\"chars_num Histogram\")\n",
        "plt.xlabel(\"chars_num\")\n",
        "plt.ylabel(\"Count\")\n",
        "plt.show()\n",
        "\n",
        "plt.figure()\n",
        "df_main['bytes'].hist();\n",
        "plt.title(\"bytes Histogram\")\n",
        "plt.xlabel(\"bytes\")\n",
        "plt.ylabel(\"Count\")\n",
        "plt.show()\n",
        "\n",
        "# plt.figure()\n",
        "# df_main['duration'].hist();\n",
        "# plt.title(\"duration Histogram\")\n",
        "# plt.xlabel(\"duration\")\n",
        "# plt.ylabel(\"Count\")\n",
        "# plt.show()\n",
        "\n",
        "plt.figure()\n",
        "df_main['sylls_num'].hist(bins=20);\n",
        "plt.title(\"sylls_num Histogram\")\n",
        "plt.xlabel(\"sylls_num\")\n",
        "plt.ylabel(\"Count\")\n",
        "plt.show()\n"
      ],
      "execution_count": null,
      "outputs": [
        {
          "output_type": "display_data",
          "data": {
            "image/png": "[encoded data removed]",
            "text/plain": [
              "<Figure size 432x288 with 1 Axes>"
            ]
          },
          "metadata": {
            "tags": [],
            "needs_background": "light"
          }
        },
        {
          "output_type": "display_data",
          "data": {
            "image/png": "[encoded data removed]",
            "text/plain": [
              "<Figure size 432x288 with 1 Axes>"
            ]
          },
          "metadata": {
            "tags": [],
            "needs_background": "light"
          }
        },
        {
          "output_type": "display_data",
          "data": {
            "image/png": "[encoded data removed]",
            "text/plain": [
              "<Figure size 432x288 with 1 Axes>"
            ]
          },
          "metadata": {
            "tags": [],
            "needs_background": "light"
          }
        }
      ]
    },
    {
      "cell_type": "code",
      "metadata": {
        "id": "UTraQryEFDsR",
        "colab": {
          "base_uri": "https://localhost:8080/",
          "height": 853
        },
        "outputId": "a6026687-aa59-4483-bcdd-f14420755de0"
      },
      "source": [
        "# plt.figure()\n",
        "# plt.scatter(df_main[\"duration\"],df_main[\"chars_num\"]);\n",
        "# plt.title(\"duration vs chars_num\")\n",
        "# plt.xlabel(\"duration\")\n",
        "# plt.ylabel(\"chars_num\")\n",
        "# plt.show()\n",
        "\n",
        "plt.figure()\n",
        "plt.scatter(df_main[\"bytes\"],df_main[\"chars_num\"]);\n",
        "plt.title(\"bytes vs chars_num\")\n",
        "plt.xlabel(\"bytes\")\n",
        "plt.ylabel(\"chars_num\")\n",
        "plt.show()\n",
        "\n",
        "plt.scatter(df_main[\"sylls_num\"],df_main[\"chars_num\"]);\n",
        "plt.title(\"sylls_num vs chars_num\")\n",
        "plt.xlabel(\"sylls_num\")\n",
        "plt.ylabel(\"chars_num\")\n",
        "plt.show()\n",
        "\n",
        "plt.scatter(df_main[\"bytes\"],df_main[\"sylls_num\"]);\n",
        "plt.title(\"bytes vs sylls_num\")\n",
        "plt.xlabel(\"sylls_num\")\n",
        "plt.ylabel(\"chars_num\")\n",
        "plt.show()\n",
        "\n",
        "# plt.scatter(df_main[\"bytes\"],df_main[\"duration\"]);\n",
        "# plt.title(\"bytes vs duration\")\n",
        "# plt.xlabel(\"duration\")\n",
        "# plt.ylabel(\"chars_num\")\n",
        "# plt.show()\n"
      ],
      "execution_count": null,
      "outputs": [
        {
          "output_type": "display_data",
          "data": {
            "image/png": "[encoded data removed]",
            "text/plain": [
              "<Figure size 432x288 with 1 Axes>"
            ]
          },
          "metadata": {
            "tags": [],
            "needs_background": "light"
          }
        },
        {
          "output_type": "display_data",
          "data": {
            "image/png": "[encoded data removed]",
            "text/plain": [
              "<Figure size 432x288 with 1 Axes>"
            ]
          },
          "metadata": {
            "tags": [],
            "needs_background": "light"
          }
        },
        {
          "output_type": "display_data",
          "data": {
            "image/png": "[encoded data removed]",
            "text/plain": [
              "<Figure size 432x288 with 1 Axes>"
            ]
          },
          "metadata": {
            "tags": [],
            "needs_background": "light"
          }
        }
      ]
    },
    {
      "cell_type": "code",
      "metadata": {
        "id": "0hTnqCABJdef"
      },
      "source": [
        "df_main.head()"
      ],
      "execution_count": null,
      "outputs": []
    },
    {
      "cell_type": "markdown",
      "metadata": {
        "id": "Z4oeNn3_smjH"
      },
      "source": [
        "## listen to a sample"
      ]
    },
    {
      "cell_type": "code",
      "metadata": {
        "id": "ATudmQ9jLyjv"
      },
      "source": [
        "sample=df_main.sample(1)\n",
        "test_file_path=sample['path'].values[0]\n",
        "print(sample['transcription_sylls'])\n",
        "print(sample['transcription_words'])\n",
        "Audio(filename=os.path.join(wav_path,test_file_path))"
      ],
      "execution_count": null,
      "outputs": []
    },
    {
      "cell_type": "code",
      "metadata": {
        "id": "eM5UZzScNXxr"
      },
      "source": [
        "# sample=df_main[df_main['filler_sylls']=='!NOISE'].sample(1)\n",
        "# test_file_path=sample['path'].values[0]\n",
        "# print(sample['transcription_sylls'])\n",
        "# print(sample['transcription_words'])\n",
        "# Audio(filename=os.path.join(wav_path,test_file_path))"
      ],
      "execution_count": null,
      "outputs": []
    },
    {
      "cell_type": "code",
      "metadata": {
        "id": "pn3vJn3EOFdN"
      },
      "source": [
        "# sample=df_main[df_main['filler_sylls']=='!UKN'].sample(1)\n",
        "# test_file_path=sample['path'].values[0]\n",
        "# print(sample['transcription_sylls'])\n",
        "# print(sample['transcription_words'])\n",
        "# Audio(filename=os.path.join(wav_path,test_file_path))"
      ],
      "execution_count": null,
      "outputs": []
    },
    {
      "cell_type": "code",
      "metadata": {
        "id": "TzUwll8WO3KB"
      },
      "source": [
        "# sample=df_main[df_main['filler_sylls']=='!INH'].sample(1)\n",
        "# test_file_path=sample['path'].values[0]\n",
        "# print(sample['transcription_sylls'])\n",
        "# print(sample['transcription_words'])\n",
        "# Audio(filename=os.path.join(wav_path,test_file_path))"
      ],
      "execution_count": null,
      "outputs": []
    },
    {
      "cell_type": "markdown",
      "metadata": {
        "id": "TBcIzmjsdckD"
      },
      "source": [
        "# Train test split"
      ]
    },
    {
      "cell_type": "code",
      "metadata": {
        "id": "Naf7Lp2_UUyW"
      },
      "source": [
        "mapper_words={\"path\":\"wav_filename\",\n",
        "        \"bytes\":\"wav_filesize\",\n",
        "        \"transcription_words\":\"transcript\"}\n",
        "mapper_sylls={\"path\":\"wav_filename\",\n",
        "        \"bytes\":\"wav_filesize\",\n",
        "        \"transcription_sylls\":\"transcript\"}\n",
        "df_words=df_main[['path','bytes','transcription_words']].rename(mapper_words,axis=1)\n",
        "df_sylls=df_main[['path','bytes','transcription_sylls']].rename(mapper_sylls,axis=1)"
      ],
      "execution_count": null,
      "outputs": []
    },
    {
      "cell_type": "code",
      "metadata": {
        "id": "TmvYq1M34Pkg"
      },
      "source": [
        "df_sylls.head()"
      ],
      "execution_count": null,
      "outputs": []
    },
    {
      "cell_type": "code",
      "metadata": {
        "id": "blnkP9kialEV"
      },
      "source": [
        "validate_test,train = np.split(df_words.sample(frac=1, random_state=42), [2000])\n",
        "validate,test = np.split(validate_test.sample(frac=1, random_state=42), [1000])\n",
        "train.to_csv(os.path.join(wav_path,\"train_words.csv\"),header=True,index=False)\n",
        "validate.to_csv(os.path.join(wav_path,\"validate_words.csv\"),header=True,index=False)\n",
        "test.to_csv(os.path.join(wav_path,\"test_words.csv\"),header=True,index=False)"
      ],
      "execution_count": null,
      "outputs": []
    },
    {
      "cell_type": "code",
      "metadata": {
        "id": "rPpjGFN8f4Os"
      },
      "source": [
        "validate_test,train = np.split(df_sylls.sample(frac=1, random_state=42), [2000])\n",
        "validate,test = np.split(validate_test.sample(frac=1, random_state=42), [1000])\n",
        "train.to_csv(os.path.join(wav_path,\"train_sylls.csv\"),header=True,index=False)\n",
        "validate.to_csv(os.path.join(wav_path,\"validate_sylls.csv\"),header=True,index=False)\n",
        "test.to_csv(os.path.join(wav_path,\"test_sylls.csv\"),header=True,index=False)\n"
      ],
      "execution_count": null,
      "outputs": []
    },
    {
      "cell_type": "code",
      "metadata": {
        "id": "NChWyqTUayhq"
      },
      "source": [
        "train.info();\n",
        "validate.info();\n",
        "test.info();"
      ],
      "execution_count": null,
      "outputs": []
    },
    {
      "cell_type": "code",
      "metadata": {
        "id": "3FucO-h0bqjg"
      },
      "source": [
        "train.head(50)"
      ],
      "execution_count": null,
      "outputs": []
    },
    {
      "cell_type": "code",
      "metadata": {
        "id": "2lDg7KqmSkkC"
      },
      "source": [
        ""
      ],
      "execution_count": null,
      "outputs": []
    }
  ]
}